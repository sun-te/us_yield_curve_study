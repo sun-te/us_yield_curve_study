{
 "cells": [
  {
   "cell_type": "markdown",
   "id": "fcab5fc8",
   "metadata": {},
   "source": [
    "# US yield curve study, source FED"
   ]
  },
  {
   "cell_type": "code",
   "execution_count": null,
   "id": "ecd1d612",
   "metadata": {
    "ExecuteTime": {
     "end_time": "2022-03-27T16:18:04.294088Z",
     "start_time": "2022-03-27T16:18:04.202252Z"
    }
   },
   "outputs": [],
   "source": [
    "import pandas as pd\n",
    "import numpy as np\n",
    "import os\n",
    "from utils import *\n",
    "from datetime import datetime\n",
    "from sklearn.decomposition import PCA"
   ]
  },
  {
   "cell_type": "code",
   "execution_count": null,
   "id": "ca4c8941",
   "metadata": {
    "ExecuteTime": {
     "end_time": "2022-03-27T15:37:44.879672Z",
     "start_time": "2022-03-27T15:37:44.608574Z"
    }
   },
   "outputs": [],
   "source": [
    "nominal_yld_curve = pd.read_csv(\"feds200628.csv\", skiprows=8)\n",
    "tips_yld_curve    = pd.read_csv(\"feds200805.csv\", skiprows=18)\n",
    "nominal_yld_curve[:3]"
   ]
  },
  {
   "cell_type": "code",
   "execution_count": null,
   "id": "b2eb5437",
   "metadata": {
    "ExecuteTime": {
     "end_time": "2022-03-27T15:37:44.974676Z",
     "start_time": "2022-03-27T15:37:44.880703Z"
    }
   },
   "outputs": [],
   "source": [
    "# parse date\n",
    "def parse_date(df):\n",
    "    df[\"Date\"] = df[\"Date\"].apply(lambda x: datetime.strptime(x, \"%Y-%m-%d\"))\n",
    "    df.set_index(\"Date\", inplace=True)\n",
    "parse_date(nominal_yld_curve)\n",
    "parse_date(tips_yld_curve)"
   ]
  },
  {
   "cell_type": "code",
   "execution_count": null,
   "id": "52785337",
   "metadata": {
    "ExecuteTime": {
     "end_time": "2022-03-27T15:37:45.378696Z",
     "start_time": "2022-03-27T15:37:45.376041Z"
    }
   },
   "outputs": [],
   "source": [
    "cols_nominal = [(x, int(x[-2:])/12.0) for x in (nominal_yld_curve.columns) if \"SVEN1F\" in x]\n",
    "\n",
    "cols_nominal = []\n",
    "cols_nominal = cols_nominal + [(x, int(x[-2:])) for x in (nominal_yld_curve.columns) if \"SVENF\" in x]\n",
    "dict_cols_nominal = {}\n",
    "for d in cols_nominal: \n",
    "    dict_cols_nominal[d[0]] = d[1]"
   ]
  },
  {
   "cell_type": "code",
   "execution_count": null,
   "id": "b4b22da7",
   "metadata": {
    "ExecuteTime": {
     "end_time": "2022-03-27T16:51:00.451707Z",
     "start_time": "2022-03-27T16:50:59.480983Z"
    }
   },
   "outputs": [],
   "source": [
    "print(\"on the run bond yield\")\n",
    "df2plot = nominal_yld_curve[dict_cols_nominal.keys()][\"2006-01-01\":].resample(\"1m\").last()\n",
    "plot_plotly(df2plot, width=1500)\n",
    "\n",
    "print(\"yield curve\")\n",
    "df2plot = nominal_yld_curve[dict_cols_nominal.keys()].rename(columns=dict_cols_nominal)['2005-01-01':'2022-12-31'].resample('6m').last()\n",
    "plot_plotly(df2plot.T[:20], width=1500)\n",
    "\n",
    "print(\"key slope spread\")\n",
    "pairs = [(10, 2), (7, 2), (10, 5), (20, 10), (12, 10), (10, 7)]\n",
    "df_spread = nominal_yld_curve[dict_cols_nominal.keys()].rename(columns=dict_cols_nominal)['1995-01-01':'2022-12-31']\n",
    "dict_spread = dict()\n",
    "for p in pairs:\n",
    "    p1, p2 = max(p), min(p)\n",
    "    dict_spread[\"spread_{}_{}\".format(p1, p2)] = df_spread[p1] - df_spread[p2]\n",
    "df_spread = pd.DataFrame(dict_spread)\n",
    "df_spread['level_0'] = 0\n",
    "plot_plotly(df_spread, width=1500)"
   ]
  },
  {
   "cell_type": "code",
   "execution_count": null,
   "id": "078f9191",
   "metadata": {
    "ExecuteTime": {
     "end_time": "2022-03-27T16:49:58.029576Z",
     "start_time": "2022-03-27T16:49:57.477740Z"
    },
    "scrolled": true
   },
   "outputs": [],
   "source": [
    "print(\"PCA decomposition\")\n",
    "n_comp = 5\n",
    "df_pca = nominal_yld_curve[dict_cols_nominal.keys()].rename(columns=dict_cols_nominal)['1996-01-03':'2022-03-31']\n",
    "df_pca = df_pca[df_pca.isna().sum(axis=1)==0]\n",
    "pca = PCA(n_components=n_comp, svd_solver='full')\n",
    "pca.fit(df_pca.values)\n",
    "\n",
    "rename_dict = {}\n",
    "for k in range(n_comp):\n",
    "    rename_dict[k] = str(k)\n",
    "\n",
    "pca_fit = pca.fit_transform(df_pca.values)\n",
    "pca_fit = pd.DataFrame(index=df_pca.index, data = pca_fit)\n",
    "pca_fit =( pca_fit - pca_fit.mean() ) / pca_fit.std()\n",
    "plot_plotly((pca_fit).rename(columns=rename_dict), width=1500)"
   ]
  }
 ],
 "metadata": {
  "kernelspec": {
   "display_name": "py38",
   "language": "python",
   "name": "py38"
  },
  "language_info": {
   "codemirror_mode": {
    "name": "ipython",
    "version": 3
   },
   "file_extension": ".py",
   "mimetype": "text/x-python",
   "name": "python",
   "nbconvert_exporter": "python",
   "pygments_lexer": "ipython3",
   "version": "3.8.12"
  },
  "toc": {
   "base_numbering": 1,
   "nav_menu": {},
   "number_sections": true,
   "sideBar": true,
   "skip_h1_title": false,
   "title_cell": "Table of Contents",
   "title_sidebar": "Contents",
   "toc_cell": false,
   "toc_position": {},
   "toc_section_display": true,
   "toc_window_display": false
  }
 },
 "nbformat": 4,
 "nbformat_minor": 5
}
